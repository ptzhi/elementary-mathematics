{
 "cells": [
  {
   "cell_type": "markdown",
   "id": "94ffc059-7d5e-4920-93ee-d5a6f8ab5ee8",
   "metadata": {},
   "source": [
    "# Chapter 1: Numbers, Equations, and Inequalities\n",
    "***"
   ]
  },
  {
   "cell_type": "markdown",
   "id": "dc8b8280-ffd6-4894-9f7f-74f72e6f0327",
   "metadata": {
    "jp-MarkdownHeadingCollapsed": true,
    "tags": []
   },
   "source": [
    "## 1. Exercise on the multiplication table\n",
    "\n",
    "Construct sequence of numbers as follows:\n",
    "\n",
    "$2 \\cdot 3 = 6$\n",
    "\n",
    "$3 \\cdot 6 = 18$\n",
    "\n",
    "$6 \\cdot 1 = 6$, $1 \\cdot 8 = 8$\n",
    "\n",
    "Sequence: $2,3,6,1,8,6,8...$\n",
    "\n",
    "**Prove** that numbers $5, 7, 9$ never appear in this sequence"
   ]
  },
  {
   "cell_type": "markdown",
   "id": "808aea8f-94a1-4911-bbb8-6f7b2f1ef883",
   "metadata": {
    "jp-MarkdownHeadingCollapsed": true,
    "tags": []
   },
   "source": [
    "#### Attempt:"
   ]
  },
  {
   "cell_type": "markdown",
   "id": "7d94d19b-d64b-4521-ae15-1a4cebd3891a",
   "metadata": {
    "tags": []
   },
   "source": [
    "We list the conditions for 5, 7, 9 to appear and check each one. All the ways for 5 to appear:\n",
    "\n",
    "To get _5\n",
    "- 1*5 = 5\n",
    "- 3*5 = 15\n",
    "- 5*5 = 25\n",
    "- 7*5 = 35\n",
    "- 9*5 = 45\n",
    "\n",
    "Immediately, we have a problem. 5 is a prime number, so we need a 5 to generate _5, which is not possible in this sequence that starts with 2 and 3.\n",
    "\n",
    "To get 5_, find factorial s.a. all are single digit\n",
    "- 51 = 3*17\n",
    "- 52 = 2 * 3 * 13\n",
    "- 53 = 1 * 53\n",
    "- **54 = 3 * 2 * 9 -> 6 * 9**\n",
    "- 55 = 5 * 11\n",
    "- **56 = 2 * 2 * 2 * 7 -> 8 * 7**\n",
    "- 57 = 3 * 19\n",
    "- 58 = 2 * 29\n",
    "- 59 = 1 * 59\n",
    "\n",
    "This requires the presence of 9 or 7. We repeat the exercise:\n",
    "\n",
    "To get_7\n",
    "- 1*7 = 7\n",
    "- 3*9 = 27\n",
    "\n",
    "To get 7_\n",
    "- 72 = 8*9\n",
    "\n",
    "Again since 7 is a prime number, we need a 9 to yield 27 or 72.\n",
    "\n",
    "To get _9\n",
    "- 1*9 = 9\n",
    "- 3*3 = 9\n",
    "- 7*7 = 49\n",
    "\n",
    "To get 9_ is impossible given highest multiplication table of single digits is 81.\n",
    "\n",
    "For 1 * 9, it is impossible because we are generating the first instance of 9.\n",
    "\n",
    "For 3 * 3, we need either:\n",
    "- 33, with factors 3 and 11, but 11 is a double digit\n",
    "- _ 3.3 _ \n",
    "\n",
    "_ 3 must be 3 and not 63 because 63 requires 7 and 9. 3_ is either 3 or 32 (4 * 8). 3 is impossible because it is a prime that requires 3 * 1 and the only number after single 3 is 6 (2*3) or 2 (for 32). It is therefore impossible to follow a single 3 with 32. \n",
    "\n",
    "For 7 * 7, we need the number 7 which requires 9 so that's also not possible.\n",
    "\n",
    "Since there cannot be 9, and 5 and 7 depend on 9, there also cannot be 5 or 7. So 5, 7, 9 never appears in this sequence."
   ]
  },
  {
   "cell_type": "markdown",
   "id": "14add023-d673-464f-86bf-bd878096e0d2",
   "metadata": {
    "tags": []
   },
   "source": [
    "#### Book Solution:"
   ]
  },
  {
   "cell_type": "markdown",
   "id": "5c106fdb-fc79-410c-956b-411f2e150e91",
   "metadata": {},
   "source": [
    "Similar to attempt, but starts with proving that the sequence cannot have two odd numbers in a row.\n",
    "\n",
    "Let a b c d be an instance of the sequence for this exercise. \n",
    "\n",
    "Suppose a * b = cd. If cd is odd, then a and b must both be odd. c can be either odd or even.\n",
    "\n",
    "Supose a * b = c. If c is odd, then a and b must both be odd.\n",
    "\n",
    "In either case, the immediately two preceding terms must be odd. The first three sequences must either be:\n",
    "- odd odd odd \n",
    "- odd odd even\n",
    "\n",
    "The three starting digits in this sequence is 2, 3, and 6 which is even, odd, even. Therefore there cannot be any consecutive odd numbers.\n",
    "\n",
    "It follows that the number 9 cannot appear as a product of 3 * 3. Also, numbers larger or equal to 90 are impermissible because the product requires one number with two digits e.g. 9 * 10. \n",
    "\n",
    "The number 7 requires the number 9 (8 * 9 = 72), and the number 5 requires either 7 or 9 (6 * 9 = 54 or 7 * 8 = 56). Since number 9 cannot appear, it follows that number 7 cannot appear, and number 5 cannot appear.\n"
   ]
  },
  {
   "cell_type": "markdown",
   "id": "97837d0e-74be-49d1-aefa-5f6e58d59ea4",
   "metadata": {},
   "source": [
    "#### Code"
   ]
  },
  {
   "cell_type": "code",
   "execution_count": 422,
   "id": "dfceeea5-2834-44dc-a115-3c8fd185e385",
   "metadata": {
    "tags": []
   },
   "outputs": [],
   "source": [
    "def split_number(n: int) -> list[int]:\n",
    "    num_split = []\n",
    "    i = len(str(n))\n",
    "    while i > 0:\n",
    "        num_split.append(int(str(n)[-i]))\n",
    "        i -= 1\n",
    "    return num_split\n",
    "\n",
    "# count is number of multiplications\n",
    "def create_sequence(a: int, b: int, count: int) -> list[int]:\n",
    "    lst = [a, b]\n",
    "    i = 0\n",
    "    while i < count: \n",
    "        c = lst[i] * lst[i+1]\n",
    "        lst.extend(split_number(c))\n",
    "        i += 1\n",
    "    return lst\n",
    "\n",
    "def is_in_any(n_lst: int, seq_lst: list) -> bool:\n",
    "    return any([x for x in list(set(seq_lst)) if x in n_lst])\n",
    "\n",
    "def is_in_all(n_lst: int, seq_lst: list) -> bool:\n",
    "    return set(n_lst) < set(seq_lst)\n",
    "\n",
    "def count_nums(seq_lst: list) -> int:\n",
    "    nums = [n for n in range(1,10)]\n",
    "    total = len(seq_lst)\n",
    "    for n in nums:\n",
    "        count = len([x for x in seq_lst if x == n])\n",
    "        print(f'for {n} in seq start {seq_lst[:2]}: {\"%.0f\" % (100*count/total)}%, {count}/{total}')\n",
    "        \n",
    "def print_solution(seq):\n",
    "    sub_seq1 = [5,7,9]\n",
    "    sub_seq2 = [2,4,6]\n",
    "    print(f'''\n",
    "    for sequence {seq[0:10]}... of length {len(seq1)}\n",
    "    any {sub_seq1} is in sequence: {is_in_any(sub_seq1, seq)}\n",
    "    any {sub_seq2} is in sequence: {is_in_any(sub_seq2, seq)}\n",
    "    all {sub_seq1} is in sequence: {is_in_all(sub_seq1, seq)}\n",
    "    all {sub_seq2} is in sequence: {is_in_all(sub_seq2, seq)}\n",
    "    check unique numbers of sequence: {set(seq)}\n",
    "    ''')\n",
    "    count_nums(seq)"
   ]
  },
  {
   "cell_type": "code",
   "execution_count": 410,
   "id": "8b565dec-47a7-4adb-9689-5c47119b4d5d",
   "metadata": {
    "tags": []
   },
   "outputs": [],
   "source": [
    "seq1 = create_sequence(a=2, b=3, count=10000)\n",
    "seq2 = create_sequence(a=3, b=7, count=10000)"
   ]
  },
  {
   "cell_type": "code",
   "execution_count": 423,
   "id": "0342ad57-7c69-42fd-a906-6dd3814619d4",
   "metadata": {
    "tags": []
   },
   "outputs": [
    {
     "name": "stdout",
     "output_type": "stream",
     "text": [
      "\n",
      "    for sequence [2, 3, 6, 1, 8, 6, 8, 4, 8, 4]... of length 16747\n",
      "    any [5, 7, 9] is in sequence: False\n",
      "    any [2, 4, 6] is in sequence: True\n",
      "    all [5, 7, 9] is in sequence: False\n",
      "    all [2, 4, 6] is in sequence: True\n",
      "    check unique numbers of sequence: {1, 2, 3, 4, 6, 8}\n",
      "    \n",
      "for 1 in seq start [2, 3]: 4%, 674/16747\n",
      "for 2 in seq start [2, 3]: 27%, 4443/16747\n",
      "for 3 in seq start [2, 3]: 2%, 317/16747\n",
      "for 4 in seq start [2, 3]: 35%, 5931/16747\n",
      "for 5 in seq start [2, 3]: 0%, 0/16747\n",
      "for 6 in seq start [2, 3]: 17%, 2773/16747\n",
      "for 7 in seq start [2, 3]: 0%, 0/16747\n",
      "for 8 in seq start [2, 3]: 16%, 2609/16747\n",
      "for 9 in seq start [2, 3]: 0%, 0/16747\n",
      "\n",
      "    for sequence [3, 7, 2, 1, 1, 4, 2, 1, 4, 8]... of length 16747\n",
      "    any [5, 7, 9] is in sequence: True\n",
      "    any [2, 4, 6] is in sequence: True\n",
      "    all [5, 7, 9] is in sequence: False\n",
      "    all [2, 4, 6] is in sequence: True\n",
      "    check unique numbers of sequence: {1, 2, 3, 4, 6, 7, 8}\n",
      "    \n",
      "for 1 in seq start [3, 7]: 10%, 1487/15555\n",
      "for 2 in seq start [3, 7]: 25%, 3837/15555\n",
      "for 3 in seq start [3, 7]: 4%, 665/15555\n",
      "for 4 in seq start [3, 7]: 25%, 3815/15555\n",
      "for 5 in seq start [3, 7]: 0%, 0/15555\n",
      "for 6 in seq start [3, 7]: 19%, 2890/15555\n",
      "for 7 in seq start [3, 7]: 0%, 1/15555\n",
      "for 8 in seq start [3, 7]: 18%, 2860/15555\n",
      "for 9 in seq start [3, 7]: 0%, 0/15555\n"
     ]
    }
   ],
   "source": [
    "print_solution(seq1)\n",
    "print_solution(seq2)"
   ]
  },
  {
   "cell_type": "markdown",
   "id": "2435c678-d6d2-4c32-bd0d-0cf16b6972fc",
   "metadata": {},
   "source": [
    "## 2. An Interesrting property of numbers\n",
    "\n",
    "Add the squares of the digits of an arbitrary number e.g. 2583\n",
    "\n",
    "$2^2+5^2+8^2+3^2 = 102$\n",
    "\n",
    "Repeat with the new number obtained\n",
    "\n",
    "- $1^2+0^2+2^2=5$\n",
    "- $5^2=25$\n",
    "- $2^2+5^2=29$\n",
    "- $2^2+9^2=85$\n",
    "- $8^2+5^2=89$\n",
    "- $8^2+9^2=145$\n",
    "\n",
    "And so on.\n",
    "\n",
    "**Prove** that this procedure either leads to the number 1 (and therefore recurr indefinitely at $1^2=1$), or to the number 145 with the following sequence repeated indefinitely\n",
    "\n",
    "$$145, 42, 20, 4, 16, 37, 58, 89$$"
   ]
  },
  {
   "cell_type": "markdown",
   "id": "bfc3afe8-78c4-4f13-b25e-8bd6af88f43d",
   "metadata": {},
   "source": [
    "#### Attempt"
   ]
  },
  {
   "cell_type": "markdown",
   "id": "eb5212f3-f3f8-4527-9cf6-d3775f2baad8",
   "metadata": {},
   "source": [
    "Again, exploring single digits, but now with squares. Let's see if we can tell what's so special from listing the squares.\n",
    "\n",
    "$0^2 = 0$   \n",
    "$1^2 = 1$   \n",
    "$2^2 = 4$   \n",
    "$3^2 = 9$   \n",
    "$4^2 = 16$  \n",
    "$5^2 = 25$  \n",
    "$6^2 = 36$  \n",
    "$7^2 = 49$  \n",
    "$8^2 = 64$  \n",
    "$9^2 = 81$  \n",
    "\n",
    "The only way to end up with $1$ is $1 \\cdot 10^n$, so $1^2 + 0^2 + 0^2 + ... + 0^2 = 1$\n",
    "\n",
    "E.g. $5555$ gives \n",
    "- $5^2 + 5^2 + 5^2 + 5^2 = 100$\n",
    "- $1^2 + 0^2 + 0^2 = 1$"
   ]
  }
 ],
 "metadata": {
  "kernelspec": {
   "display_name": "Python 3 (ipykernel)",
   "language": "python",
   "name": "python3"
  },
  "language_info": {
   "codemirror_mode": {
    "name": "ipython",
    "version": 3
   },
   "file_extension": ".py",
   "mimetype": "text/x-python",
   "name": "python",
   "nbconvert_exporter": "python",
   "pygments_lexer": "ipython3",
   "version": "3.11.0"
  }
 },
 "nbformat": 4,
 "nbformat_minor": 5
}
