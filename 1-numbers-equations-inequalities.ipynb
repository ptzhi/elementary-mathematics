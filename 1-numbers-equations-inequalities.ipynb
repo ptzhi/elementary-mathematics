{
 "cells": [
  {
   "cell_type": "markdown",
   "id": "94ffc059-7d5e-4920-93ee-d5a6f8ab5ee8",
   "metadata": {},
   "source": [
    "# Chapter 1: Numbers, Equations, and Inequalities\n",
    "***\n",
    "\n",
    "### Table of Contents\n",
    "\n",
    "1. [Exercise on the multiplication table](#1.-Exercise-on-the-multiplication-table)\n",
    "2. [An interesting property of numbers (WIP)](#2.-An-interesting-property-of-numbers-(WIP))\n",
    "3. [Division by 11](#3.-Division-by-11)\n",
    "4. [The divisibility of numbers](#4.-The-divisibility-of-numbers)\n",
    "5. [A simplified form of Fermat's theorem](#5.-A-simplified-form-of-Fermat's-theorem)"
   ]
  },
  {
   "cell_type": "markdown",
   "id": "dc8b8280-ffd6-4894-9f7f-74f72e6f0327",
   "metadata": {
    "tags": []
   },
   "source": [
    "## 1. Exercise on the multiplication table\n",
    "***\n",
    "Construct sequence of numbers as follows:\n",
    "\n",
    "$2 \\cdot 3 = 6$\n",
    "\n",
    "$3 \\cdot 6 = 18$\n",
    "\n",
    "$6 \\cdot 1 = 6$, $1 \\cdot 8 = 8$\n",
    "\n",
    "Sequence: $2,3,6,1,8,6,8...$\n",
    "\n",
    "**Prove** that numbers $5, 7, 9$ never appear in this sequence"
   ]
  },
  {
   "cell_type": "markdown",
   "id": "808aea8f-94a1-4911-bbb8-6f7b2f1ef883",
   "metadata": {
    "tags": []
   },
   "source": [
    "#### Attempt:"
   ]
  },
  {
   "cell_type": "markdown",
   "id": "7d94d19b-d64b-4521-ae15-1a4cebd3891a",
   "metadata": {
    "tags": []
   },
   "source": [
    "We list the conditions for 5, 7, 9 to appear and check each one. All the ways for 5 to appear:\n",
    "\n",
    "To get _5\n",
    "- 1*5 = 5\n",
    "- 3*5 = 15\n",
    "- 5*5 = 25\n",
    "- 7*5 = 35\n",
    "- 9*5 = 45\n",
    "\n",
    "Immediately, we have a problem. 5 is a prime number, so we need a 5 to generate _5, which is not possible in this sequence that starts with 2 and 3.\n",
    "\n",
    "To get 5_, find factorial s.a. all are single digit\n",
    "- 51 = 3*17\n",
    "- 52 = 2 * 3 * 13\n",
    "- 53 = 1 * 53\n",
    "- **54 = 3 * 2 * 9 -> 6 * 9**\n",
    "- 55 = 5 * 11\n",
    "- **56 = 2 * 2 * 2 * 7 -> 8 * 7**\n",
    "- 57 = 3 * 19\n",
    "- 58 = 2 * 29\n",
    "- 59 = 1 * 59\n",
    "\n",
    "This requires the presence of 9 or 7. We repeat the exercise:\n",
    "\n",
    "To get_7\n",
    "- 1*7 = 7\n",
    "- 3*9 = 27\n",
    "\n",
    "To get 7_\n",
    "- 72 = 8*9\n",
    "\n",
    "Again since 7 is a prime number, we need a 9 to yield 27 or 72.\n",
    "\n",
    "To get _9\n",
    "- 1*9 = 9\n",
    "- 3*3 = 9\n",
    "- 7*7 = 49\n",
    "\n",
    "To get 9_ is impossible given highest multiplication table of single digits is 81.\n",
    "\n",
    "For 1 * 9, it is impossible because we are generating the first instance of 9.\n",
    "\n",
    "For 3 * 3, we need either:\n",
    "- 33, with factors 3 and 11, but 11 is a double digit\n",
    "- _ 3.3 _ \n",
    "\n",
    "_ 3 must be 3 and not 63 because 63 requires 7 and 9. 3_ is either 3 or 32 (4 * 8). 3 is impossible because it is a prime that requires 3 * 1 and the only number after single 3 is 6 (2*3) or 2 (for 32). It is therefore impossible to follow a single 3 with 32. \n",
    "\n",
    "For 7 * 7, we need the number 7 which requires 9 so that's also not possible.\n",
    "\n",
    "Since there cannot be 9, and 5 and 7 depend on 9, there also cannot be 5 or 7. So 5, 7, 9 never appears in this sequence."
   ]
  },
  {
   "cell_type": "markdown",
   "id": "14add023-d673-464f-86bf-bd878096e0d2",
   "metadata": {
    "tags": []
   },
   "source": [
    "#### Book Solution:"
   ]
  },
  {
   "cell_type": "markdown",
   "id": "5c106fdb-fc79-410c-956b-411f2e150e91",
   "metadata": {},
   "source": [
    "Starts with proving that the sequence cannot have two odd numbers in a row.\n",
    "\n",
    "Let a b c d be an instance of the sequence for this exercise. \n",
    "\n",
    "Suppose a * b = cd. If cd is odd, then a and b must both be odd. c can be either odd or even.\n",
    "\n",
    "Supose a * b = c. If c is odd, then a and b must both be odd.\n",
    "\n",
    "In either case, the immediately two preceding terms must be odd. The first three sequences must either be:\n",
    "- odd odd odd \n",
    "- odd odd even\n",
    "\n",
    "The three starting digits in this sequence is 2, 3, and 6 which is even, odd, even. Therefore there cannot be any consecutive odd numbers.\n",
    "\n",
    "It follows that the number 9 cannot appear as a product of 3 * 3. Also, numbers larger or equal to 90 are impermissible because the product requires one number with two digits e.g. 9 * 10. \n",
    "\n",
    "The number 7 requires the number 9 (8 * 9 = 72), and the number 5 requires either 7 or 9 (6 * 9 = 54 or 7 * 8 = 56). Since number 9 cannot appear, it follows that number 7 cannot appear, and number 5 cannot appear.\n"
   ]
  },
  {
   "cell_type": "markdown",
   "id": "97837d0e-74be-49d1-aefa-5f6e58d59ea4",
   "metadata": {},
   "source": [
    "#### Code"
   ]
  },
  {
   "cell_type": "code",
   "execution_count": 1,
   "id": "dfceeea5-2834-44dc-a115-3c8fd185e385",
   "metadata": {
    "tags": []
   },
   "outputs": [],
   "source": [
    "class Q1():\n",
    "    @staticmethod\n",
    "    def split_number(n: int) -> list[int]:\n",
    "        return [int(x) for x in str(n)] \n",
    "\n",
    "    # count is number of multiplications\n",
    "    @classmethod\n",
    "    def create_sequence(cls, a: int, b: int, count: int) -> list[int]:\n",
    "        lst = [a, b]\n",
    "        i = 0\n",
    "        while i < count: \n",
    "            c = lst[i] * lst[i+1]\n",
    "            lst.extend(cls.split_number(c))\n",
    "            i += 1\n",
    "        return lst\n",
    "\n",
    "    @staticmethod\n",
    "    def is_in_any(n_lst: int, seq_lst: list) -> bool:\n",
    "        return any([x for x in list(set(seq_lst)) if x in n_lst])\n",
    "\n",
    "    @staticmethod\n",
    "    def is_in_all(n_lst: int, seq_lst: list) -> bool:\n",
    "        return set(n_lst) < set(seq_lst)\n",
    "\n",
    "    @staticmethod\n",
    "    def count_nums(seq_lst: list) -> int:\n",
    "        nums = [n for n in range(1,10)]\n",
    "        total = len(seq_lst)\n",
    "        for n in nums:\n",
    "            count = len([x for x in seq_lst if x == n])\n",
    "            print(f'for {n} in seq start {seq_lst[:2]}: {\"%.0f\" % (100*count/total)}%, {count}/{total}')\n",
    "\n",
    "    @classmethod\n",
    "    def print_solution(cls, seq):\n",
    "        sub_seq1 = [5,7,9]\n",
    "        sub_seq2 = [2,4,6]\n",
    "        print(f'''\n",
    "        for sequence {seq[0:10]}... of length {len(seq1)}\n",
    "        any {sub_seq1} is in sequence: {cls.is_in_any(sub_seq1, seq)}\n",
    "        any {sub_seq2} is in sequence: {cls.is_in_any(sub_seq2, seq)}\n",
    "        all {sub_seq1} is in sequence: {cls.is_in_all(sub_seq1, seq)}\n",
    "        all {sub_seq2} is in sequence: {cls.is_in_all(sub_seq2, seq)}\n",
    "        check unique numbers of sequence: {set(seq)}\n",
    "        ''')\n",
    "        cls.count_nums(seq)"
   ]
  },
  {
   "cell_type": "code",
   "execution_count": 2,
   "id": "f5c9680b-06a4-4f0d-9778-40c8d4189230",
   "metadata": {
    "tags": []
   },
   "outputs": [],
   "source": [
    "s1 = Q1()"
   ]
  },
  {
   "cell_type": "code",
   "execution_count": 3,
   "id": "7be1691a-610a-4844-a4f8-6897779afd45",
   "metadata": {
    "tags": []
   },
   "outputs": [],
   "source": [
    "seq1 = s1.create_sequence(a=2, b=3, count=10000)\n",
    "seq2 = s1.create_sequence(a=3, b=7, count=10000)"
   ]
  },
  {
   "cell_type": "code",
   "execution_count": 4,
   "id": "0342ad57-7c69-42fd-a906-6dd3814619d4",
   "metadata": {
    "tags": []
   },
   "outputs": [
    {
     "name": "stdout",
     "output_type": "stream",
     "text": [
      "\n",
      "        for sequence [2, 3, 6, 1, 8, 6, 8, 4, 8, 4]... of length 16747\n",
      "        any [5, 7, 9] is in sequence: False\n",
      "        any [2, 4, 6] is in sequence: True\n",
      "        all [5, 7, 9] is in sequence: False\n",
      "        all [2, 4, 6] is in sequence: True\n",
      "        check unique numbers of sequence: {1, 2, 3, 4, 6, 8}\n",
      "        \n",
      "for 1 in seq start [2, 3]: 4%, 674/16747\n",
      "for 2 in seq start [2, 3]: 27%, 4443/16747\n",
      "for 3 in seq start [2, 3]: 2%, 317/16747\n",
      "for 4 in seq start [2, 3]: 35%, 5931/16747\n",
      "for 5 in seq start [2, 3]: 0%, 0/16747\n",
      "for 6 in seq start [2, 3]: 17%, 2773/16747\n",
      "for 7 in seq start [2, 3]: 0%, 0/16747\n",
      "for 8 in seq start [2, 3]: 16%, 2609/16747\n",
      "for 9 in seq start [2, 3]: 0%, 0/16747\n",
      "\n",
      "        for sequence [3, 7, 2, 1, 1, 4, 2, 1, 4, 8]... of length 16747\n",
      "        any [5, 7, 9] is in sequence: True\n",
      "        any [2, 4, 6] is in sequence: True\n",
      "        all [5, 7, 9] is in sequence: False\n",
      "        all [2, 4, 6] is in sequence: True\n",
      "        check unique numbers of sequence: {1, 2, 3, 4, 6, 7, 8}\n",
      "        \n",
      "for 1 in seq start [3, 7]: 10%, 1487/15555\n",
      "for 2 in seq start [3, 7]: 25%, 3837/15555\n",
      "for 3 in seq start [3, 7]: 4%, 665/15555\n",
      "for 4 in seq start [3, 7]: 25%, 3815/15555\n",
      "for 5 in seq start [3, 7]: 0%, 0/15555\n",
      "for 6 in seq start [3, 7]: 19%, 2890/15555\n",
      "for 7 in seq start [3, 7]: 0%, 1/15555\n",
      "for 8 in seq start [3, 7]: 18%, 2860/15555\n",
      "for 9 in seq start [3, 7]: 0%, 0/15555\n"
     ]
    }
   ],
   "source": [
    "s1.print_solution(seq1)\n",
    "s1.print_solution(seq2)"
   ]
  },
  {
   "cell_type": "markdown",
   "id": "2435c678-d6d2-4c32-bd0d-0cf16b6972fc",
   "metadata": {
    "tags": []
   },
   "source": [
    "## 2. An interesting property of numbers (WIP)\n",
    "***\n",
    "Add the squares of the digits of an arbitrary number e.g. 2583\n",
    "\n",
    "$2^2+5^2+8^2+3^2 = 102$\n",
    "\n",
    "Repeat with the new number obtained\n",
    "\n",
    "- $1^2+0^2+2^2=5$\n",
    "- $5^2=25$\n",
    "- $2^2+5^2=29$\n",
    "- $2^2+9^2=85$\n",
    "- $8^2+5^2=89$\n",
    "- $8^2+9^2=145$\n",
    "\n",
    "And so on.\n",
    "\n",
    "**Prove** that this procedure either leads to the number 1 (and therefore recurr indefinitely at $1^2=1$), or to the number 145 with the following sequence repeated indefinitely\n",
    "\n",
    "$$145, 42, 20, 4, 16, 37, 58, 89$$"
   ]
  },
  {
   "cell_type": "markdown",
   "id": "bfc3afe8-78c4-4f13-b25e-8bd6af88f43d",
   "metadata": {
    "tags": []
   },
   "source": [
    "#### Attempt"
   ]
  },
  {
   "cell_type": "markdown",
   "id": "eb5212f3-f3f8-4527-9cf6-d3775f2baad8",
   "metadata": {},
   "source": [
    "Again, exploring single digits, but now with squares. Let's see if we can tell what's so special from listing the squares.\n",
    "\n",
    "$0^2 = 0$   \n",
    "$1^2 = 1$   \n",
    "$2^2 = 4$   \n",
    "$3^2 = 9$   \n",
    "$4^2 = 16$  \n",
    "$5^2 = 25$  \n",
    "$6^2 = 36$  \n",
    "$7^2 = 49$  \n",
    "$8^2 = 64$  \n",
    "$9^2 = 81$  \n",
    "\n",
    "The only way to end up with $1$ is with $1 \\cdot 10^n$, so $1^2 + 0^2 + 0^2 + ... + 0^2 = 1$\n",
    "\n",
    "E.g. $5555$ gives \n",
    "- $5^2 + 5^2 + 5^2 + 5^2 = 100$\n",
    "- $1^2 + 0^2 + 0^2 = 1$\n",
    "\n",
    "We get $145 = 8^2 + 9^2 = 2^{3\\cdot2} + 3^{2\\cdot2} = 10^2\\cdot1 + 10^1\\cdot4 + 10^0\\cdot5$\n",
    "\n",
    "Highest is $9^2+9^2=162$\n",
    "- $1^2+6^2+2^2=41$\n",
    "- $4^2+1^2=17$\n",
    "- $1^2+7^2=50$\n",
    "- $5^2+0^2=25$\n",
    "- $2^2+5^2=29$\n",
    "- $2^2+9^2=85$\n",
    "- $8^2+5^2=89$\n",
    "- $8^2+9^2=145$\n",
    "\n",
    "... I have no clue"
   ]
  },
  {
   "cell_type": "markdown",
   "id": "f4ed7036-994e-4b1c-a851-a3b0227a587f",
   "metadata": {},
   "source": [
    "### Book Solution\n",
    "\n",
    "**First, establish that an arbitrary number with >=3 digits is greater in value than the sum of its squared digits.**\n",
    "\n",
    "Let arbitrary number be $L = 10^{n-1}a_n + 10^{n-2}a_{n-1} + ... + 10^2a_3 + 10a_2 + a_1$ where $n=1,2,3...$ and $a_n=0,1,2,...,9$\n",
    "\n",
    "Let sum of its squared digits of L be $L_s = a^2_n + a^2_{n-1} + ... + a^2_3 + a^2_2+ a^2_1$\n",
    "\n",
    "$L-L_s = (10^{n-1}-a_n)a_n + (10^{n-2}-a_{n-1})a_{n-1} + ... + (10^2-a_3)a_3 + (10^1-a_2)a_2 - (a_1-1)a_1$\n",
    "\n",
    "It follows that $(a_1-1)a_1 \\le 72$, since max $a_1 = 9$\n",
    "\n",
    "For $n\\ge3$ and $a_n\\neq0$, we have $(10^{n-1}-a_n)a_n\\ge99$, for example for $n=3, a_n=1$, we have $(100-1)1\\ge99$\n",
    "\n",
    "For $n\\ge2$ and $a_n\\neq0$, we have $(10^{n-1}-a_n)a_n\\ge0$, for example for $n=2, a_n=1$, we have $(10-1)1\\ge0$\n",
    "\n",
    "It follows that $L-L_s\\ge99-72$ or $L-L_s\\ge27$. Therefore we have the sequence $L_1 > L_2 > L_3 ...$ We have proved that for numbers **greater than 3 digits**, the original number will always be greater in value to the sum of its squared digits.\n",
    "\n",
    "**Second, establish the same for numbers <3 digits**\n",
    "\n",
    "Rewriting the inequality for n=3, $L-L_s\\ge27$ means there is at least one number in the sequence of $L_1, L_2, L_3...$ that is a double digit number, given $L > L_1 > L_2 ... $. Recall that starting with triple digit number, our sequence will get smaller and smaller. \n",
    "\n",
    "Let that number be $L_q = 10j+k$ with sequence $L_{q+1}, L_{q+2}, L_{q+3}...$\n",
    "\n",
    "Refer to table outlined in the book to validate each possible number of $j^2+k^2$"
   ]
  },
  {
   "cell_type": "markdown",
   "id": "a3b63f86-2f06-4e8a-9ac4-940a60582ad5",
   "metadata": {},
   "source": [
    "#### Code"
   ]
  },
  {
   "cell_type": "code",
   "execution_count": 5,
   "id": "bbbe40e3-b01e-4de6-a4d3-6621c40a3cb2",
   "metadata": {
    "tags": []
   },
   "outputs": [],
   "source": [
    "class Q2():\n",
    "    @staticmethod\n",
    "    def create_seq(n: int) -> list[int]:\n",
    "        lst_split=Q1.split_number(n)\n",
    "        n_new=sum([x**2 for x in lst_split])\n",
    "        print(n_new)\n",
    "        if n_new==145 or n_new==1:\n",
    "            return None\n",
    "        return Q2.create_seq(n_new)"
   ]
  },
  {
   "cell_type": "code",
   "execution_count": 6,
   "id": "a3470a9d-0d68-4320-b640-bbf81b0eaded",
   "metadata": {
    "tags": []
   },
   "outputs": [],
   "source": [
    "import random"
   ]
  },
  {
   "cell_type": "code",
   "execution_count": 7,
   "id": "cebecb72-a41d-4c38-8b6a-8fe9a3ec89fd",
   "metadata": {
    "tags": []
   },
   "outputs": [
    {
     "name": "stdout",
     "output_type": "stream",
     "text": [
      "seed: 174086\n",
      "166\n",
      "73\n",
      "58\n",
      "89\n",
      "145\n"
     ]
    }
   ],
   "source": [
    "seed_num = random.randint(0,1e6)\n",
    "print(f'seed: {seed_num}')\n",
    "Q2.create_seq(seed_num)"
   ]
  },
  {
   "cell_type": "code",
   "execution_count": 8,
   "id": "5f89d56d-0c42-4acb-9070-4d2589f48c14",
   "metadata": {
    "tags": []
   },
   "outputs": [
    {
     "name": "stdout",
     "output_type": "stream",
     "text": [
      "16\n",
      "37\n",
      "58\n",
      "89\n",
      "145\n"
     ]
    }
   ],
   "source": [
    "Q2.create_seq(4)"
   ]
  },
  {
   "cell_type": "markdown",
   "id": "00762b6e-1764-428f-bedb-55d171ce63fb",
   "metadata": {
    "tags": []
   },
   "source": [
    "## 3. Division by 11\n",
    "***\n",
    "\n",
    "Prove that the number $5^{5k+1} + 4^{5k+2} + 3^{5k}$ is divisible by 11 for every natural k."
   ]
  },
  {
   "cell_type": "markdown",
   "id": "338ca870-128f-496f-ab45-fce9c9a27422",
   "metadata": {},
   "source": [
    "#### Attempt"
   ]
  },
  {
   "cell_type": "markdown",
   "id": "f0bde9fe-7fb5-45ba-ac6b-01ff31163f59",
   "metadata": {
    "tags": []
   },
   "source": [
    "#### Book Solution\n",
    "\n",
    "Look at remainders!! Of course.\n",
    "\n",
    "Rewrite above expression as $5^{\\alpha} + 4^{\\beta} + 3^{\\gamma}$. Dividing each term by 11, we get corresponding remainders $R(5^{\\alpha}), R(4^{\\beta}), R(3^{\\gamma})$.\n",
    "\n",
    "We want $R(5^{\\alpha}) + R(4^{\\beta}) + R(3^{\\gamma})$ to be a multiple of 11. From table below, $\\alpha=6, \\beta=7, \\gamma=0$ will yield a sum of $5+5+1=11$.\n",
    "\n",
    "From the table, we see that's $5^6 + 4^7 + 3^0$, or equivalently $5^{5k+1} + 4^{5k+2} + 3^{5k}$ when $k=1$. \n",
    "\n",
    "For all other $k=2,3,4...$ results in same pattern of remainders, therefore $5^{5k+1} + 4^{5k+2} + 3^{5k}$ is divisible by 11 for all natural $k$.\n",
    "\n",
    "There can be other solutions as well, e.g. $5^5+4^3+3^5$ is also divisible by 11 because it gives sum of remainders $1+9+1=11$.\n"
   ]
  },
  {
   "cell_type": "code",
   "execution_count": 9,
   "id": "f1133b95-0cc9-4755-af15-8784210c68da",
   "metadata": {
    "tags": []
   },
   "outputs": [
    {
     "name": "stdout",
     "output_type": "stream",
     "text": [
      "5^0 %11 1\n",
      "5^1 %11 5\n",
      "5^2 %11 3\n",
      "5^3 %11 4\n",
      "5^4 %11 9\n",
      "5^5 %11 1\n",
      "5^6 %11 5\n",
      "5^7 %11 3\n",
      "5^8 %11 4\n",
      "5^9 %11 9\n",
      "4^0 %11 1\n",
      "4^1 %11 4\n",
      "4^2 %11 5\n",
      "4^3 %11 9\n",
      "4^4 %11 3\n",
      "4^5 %11 1\n",
      "4^6 %11 4\n",
      "4^7 %11 5\n",
      "4^8 %11 9\n",
      "4^9 %11 3\n",
      "3^0 %11 1\n",
      "3^1 %11 3\n",
      "3^2 %11 9\n",
      "3^3 %11 5\n",
      "3^4 %11 4\n",
      "3^5 %11 1\n",
      "3^6 %11 3\n",
      "3^7 %11 9\n",
      "3^8 %11 5\n",
      "3^9 %11 4\n"
     ]
    }
   ],
   "source": [
    "for n in [5,4,3]:\n",
    "    [print(f'{n}^{x} %11 {(n**x)%11}') for x in range(0,10)]"
   ]
  },
  {
   "cell_type": "code",
   "execution_count": 10,
   "id": "fce1e18c-77a0-4c04-b979-c2d4207fe1d6",
   "metadata": {
    "tags": []
   },
   "outputs": [
    {
     "name": "stdout",
     "output_type": "stream",
     "text": [
      "k=1, 32252 is divisible by 11: True\n",
      "k=2, 65664390 is divisible by 11: True\n",
      "k=3, 169782108716 is divisible by 11: True\n",
      "k=4, 494432831031942 is divisible by 11: True\n",
      "k=5, 1508131365182857052 is divisible by 11: True\n",
      "k=6, 4675059823042234224390 is divisible by 11: True\n",
      "k=7, 14570804744329875486495116 is divisible by 11: True\n",
      "k=8, 45494077913917911421604180742 is divisible by 11: True\n",
      "k=9, 142128354195602915965174073201852 is divisible by 11: True\n"
     ]
    }
   ],
   "source": [
    "for k in [k for k in range(1,10)]:\n",
    "    num = 5**(5*k+1) + 4**(5*k+2) + 3**(5*k)\n",
    "    divisor=11\n",
    "    result = num%divisor==0\n",
    "    print(f'k={k}, {num} is divisible by {divisor}: {result}')"
   ]
  },
  {
   "cell_type": "markdown",
   "id": "15c4aa08-f87f-4f92-86ca-19704e7aa6ac",
   "metadata": {},
   "source": [
    "We can repeat this for other divisions, e.g. solve for $2^{\\alpha} + 3^{\\beta} + 4^{\\gamma}$ such that the sum is divisible by 3. We print table (below) and solve, e.g. $2^{3} + 3^{0} + 4^{1}$ is divisible by 3 because the sum of remainder of each term divided by 3 is a multiple of 3. \n",
    "\n",
    "The expression $2^{2k} + 3^{k-k} + 4^{k}$ is divisible by 3 for all natural $k$."
   ]
  },
  {
   "cell_type": "code",
   "execution_count": 11,
   "id": "e36794ad-90d9-4d58-8b13-8fc4c10c30ae",
   "metadata": {
    "tags": []
   },
   "outputs": [
    {
     "name": "stdout",
     "output_type": "stream",
     "text": [
      "2^0 %3 1\n",
      "2^1 %3 2\n",
      "2^2 %3 1\n",
      "2^3 %3 2\n",
      "2^4 %3 1\n",
      "2^5 %3 2\n",
      "2^6 %3 1\n",
      "2^7 %3 2\n",
      "2^8 %3 1\n",
      "2^9 %3 2\n",
      "3^0 %3 1\n",
      "3^1 %3 0\n",
      "3^2 %3 0\n",
      "3^3 %3 0\n",
      "3^4 %3 0\n",
      "3^5 %3 0\n",
      "3^6 %3 0\n",
      "3^7 %3 0\n",
      "3^8 %3 0\n",
      "3^9 %3 0\n",
      "4^0 %3 1\n",
      "4^1 %3 1\n",
      "4^2 %3 1\n",
      "4^3 %3 1\n",
      "4^4 %3 1\n",
      "4^5 %3 1\n",
      "4^6 %3 1\n",
      "4^7 %3 1\n",
      "4^8 %3 1\n",
      "4^9 %3 1\n"
     ]
    }
   ],
   "source": [
    "for n in [2,3,4]:\n",
    "    [print(f'{n}^{x} %3 {(n**x)%3}') for x in range(0,10)]"
   ]
  },
  {
   "cell_type": "code",
   "execution_count": 12,
   "id": "8285ff4d-063f-4900-bdfb-2040d8982ef5",
   "metadata": {
    "tags": []
   },
   "outputs": [
    {
     "name": "stdout",
     "output_type": "stream",
     "text": [
      "k=1, 9 is divisible by 3: True\n",
      "k=2, 33 is divisible by 3: True\n",
      "k=3, 129 is divisible by 3: True\n",
      "k=4, 513 is divisible by 3: True\n",
      "k=5, 2049 is divisible by 3: True\n",
      "k=6, 8193 is divisible by 3: True\n",
      "k=7, 32769 is divisible by 3: True\n",
      "k=8, 131073 is divisible by 3: True\n",
      "k=9, 524289 is divisible by 3: True\n"
     ]
    }
   ],
   "source": [
    "for k in [k for k in range(1,10)]:\n",
    "    num = 2**(2*k) + 3**(k-k) + 4**(k)\n",
    "    divisor=3\n",
    "    result = num%divisor==0\n",
    "    print(f'k={k}, {num} is divisible by {divisor}: {result}')"
   ]
  },
  {
   "cell_type": "markdown",
   "id": "c3cb8b75-a47f-49c2-8246-306862ca69dd",
   "metadata": {
    "tags": []
   },
   "source": [
    "## 4. The divisibility of numbers\n",
    "***\n",
    "\n",
    "The number $3^{105} + 4^{105}$ is divisible by 13, 49, 181, and 379, and is not divisible either by 5 or 11. \n",
    "\n",
    "How can this result be confirmed?"
   ]
  },
  {
   "cell_type": "markdown",
   "id": "e7d289ed-d4ec-4b8a-9024-521ab724159c",
   "metadata": {},
   "source": [
    "#### Attempt\n",
    "\n",
    "We can check the results with code, but that's probably cheating considering the book, so let's reason through it first.\n",
    "\n",
    "The sum of the remainders of each term in the expression divided by the divisor must be a multiple of that divisor in order for the results obtained by the expression to be divisible by that divisor.\n",
    "\n",
    "In other words, for $R_n(3^\\alpha + 4^\\beta) = 0$ to be true where $n$ is the divisor and $R_n()$ is the remainder from $n$, the following must be true: $R_n(3^\\alpha) + R_n(4^\\beta) = k\\cdot n$ for all natural $k$\n",
    "\n",
    "However $3^{105}$ and $4^{105}$ are really large numbers, and not feasible to compute remainder directly assuming we are just pencil and paper, is there an easier way?"
   ]
  },
  {
   "cell_type": "code",
   "execution_count": 13,
   "id": "0542d788-ea96-4d24-a526-a4a0d2b7cc71",
   "metadata": {
    "tags": []
   },
   "outputs": [
    {
     "name": "stdout",
     "output_type": "stream",
     "text": [
      "1.65e+63 is divisible by 5: False\n",
      "1.65e+63 is divisible by 11: False\n",
      "1.65e+63 is divisible by 13: True\n",
      "1.65e+63 is divisible by 49: True\n",
      "1.65e+63 is divisible by 181: True\n",
      "1.65e+63 is divisible by 379: True\n"
     ]
    }
   ],
   "source": [
    "#brute force\n",
    "divisors = [5, 11, 13, 49, 181, 379]\n",
    "num = 3**105+4**105\n",
    "for d in divisors:\n",
    "    result = num%d==0\n",
    "    print(f'{\"%0.2e\" % num} is divisible by {d}: {result}')"
   ]
  },
  {
   "cell_type": "markdown",
   "id": "29c5e1bf-6ee7-4857-8017-030f01b4e536",
   "metadata": {},
   "source": [
    "### Book Solution\n",
    "\n",
    "$a^n+b^n$ is divisible by $a+b$ if $n$ is odd. (? I need to prove this first.)\n",
    "\n",
    "$$\\frac{a^n+b^n}{a+b}$$  \n",
    "$$= \\frac{(a^n+b^n)(a-b)}{(a+b)(a-b)}$$   \n",
    "$$= \\frac{a^{n+1}-a^nb+b^na+b^{n+1}}{a^2-b^2}$$   \n",
    "$$= \\frac{a^{n+1}+b^{n+1}}{a^2-b^2} - \\frac{ab(a^{n-1}-b^{n-1})}{a^2-b^2}$$   \n",
    "$$= \\frac{(a^{\\frac{n+1}{2}}+b^{\\frac{n+1}{2}})(a^{\\frac{n+1}{2}}-b^{\\frac{n+1}{2}})}{a^2-b^2} - \\frac{ab(a^{\\frac{n-1}{2}}-b^{\\frac{n-1}{2}})}{a^2-b^2}$$   \n",
    "\n",
    "Recall $$a^k - b^k = (a-b)\\cdot(a^{k-1} + a^{k-2}b + a^{k-3}b^2 + ...+ b^{k-1})$$\n",
    "$$a^k + b^k = (a+b)\\cdot(a^{k-1} - a^{k-2}b + a^{k-3}b^2 - ...+ b^{k-1})$$\n",
    "\n",
    "If $n$ is odd, then the result will be an expression without fractions, because $a^{\\frac{n-1}{2}}-b^{\\frac{n-1}{2}}$ can be expressed in the form of $(a^k+b^k)(a^k-b^k)$, cancelling the denominator.\n",
    "\n",
    "On the other hand, if $n$ is even, then  $a^{\\frac{n-1}{2}}-b^{\\frac{n-1}{2}}$ cannot be simplified to cancel the denominator, resulting in a fraction, and hence a remainder.\n",
    "\n",
    "Since we have $3^{105}+4^{105}$, and $105$ is odd, it will be divisible by 7:"
   ]
  },
  {
   "cell_type": "code",
   "execution_count": 14,
   "id": "47055544-abf0-430e-a037-4e980c4f0e2d",
   "metadata": {
    "tags": []
   },
   "outputs": [
    {
     "name": "stdout",
     "output_type": "stream",
     "text": [
      "1.65e+63 is divisible by 379: True\n"
     ]
    }
   ],
   "source": [
    "#brute force\n",
    "divisor=7\n",
    "num = (3**105+4**105)\n",
    "result = num%divisor==0\n",
    "print(f'{\"%0.2e\" % num} is divisible by {d}: {result}')"
   ]
  },
  {
   "cell_type": "code",
   "execution_count": 15,
   "id": "098e0e73-91cc-4ec1-93cf-ec32637e92aa",
   "metadata": {
    "tags": []
   },
   "outputs": [
    {
     "name": "stdout",
     "output_type": "stream",
     "text": [
      "7\n",
      "91\n",
      "1267\n",
      "18571\n",
      "281827\n"
     ]
    },
    {
     "data": {
      "text/plain": [
       "[None, None, None, None, None]"
      ]
     },
     "execution_count": 15,
     "metadata": {},
     "output_type": "execute_result"
    }
   ],
   "source": [
    "[print(f'{3**x+4**x}') for x in range(0,10) if x%2!=0]"
   ]
  },
  {
   "cell_type": "code",
   "execution_count": 16,
   "id": "32ff6f88-5695-4b47-a01f-1ccd63179017",
   "metadata": {
    "tags": []
   },
   "outputs": [
    {
     "data": {
      "text/plain": [
       "[35, 77, 91, 343, 1267, 2653]"
      ]
     },
     "execution_count": 16,
     "metadata": {},
     "output_type": "execute_result"
    }
   ],
   "source": [
    "[7*x for x in [5, 11, 13, 49, 181, 379]]"
   ]
  },
  {
   "cell_type": "code",
   "execution_count": 17,
   "id": "91776897-564a-4bc4-8fa8-06f6b2b062fc",
   "metadata": {
    "tags": []
   },
   "outputs": [
    {
     "data": {
      "text/plain": [
       "[245, 539, 637, 2401, 8869, 18571]"
      ]
     },
     "execution_count": 17,
     "metadata": {},
     "output_type": "execute_result"
    }
   ],
   "source": [
    "[49*x for x in [5, 11, 13, 49, 181, 379]]"
   ]
  },
  {
   "cell_type": "markdown",
   "id": "2ce75679-5e5d-47b9-82ba-96e79982a7da",
   "metadata": {},
   "source": [
    "Now onto **13, 49, 181, and 379.**\n",
    "\n",
    "$3^{105}+4^{105} = 3^{3\\cdot35}+4^{3\\cdot35} = (3^3)^{35}+(4^3)^{35}$\n",
    "\n",
    "$3^3+4^3=91=7\\cdot13$\n",
    "\n",
    "$3^{105}+4^{105} = 3^{5\\cdot21}+4^{5\\cdot21} = (3^5)^{21}+(4^5)^{21}$\n",
    "\n",
    "$3^5+4^5=1267=7\\cdot181$\n",
    "\n",
    "$3^{105}+4^{105} = 3^{7\\cdot15}+4^{7\\cdot15} = (3^7)^{15}+(4^7)^{15}$\n",
    "\n",
    "$3^7+4^7=18571=7\\cdot7\\cdot379$"
   ]
  },
  {
   "cell_type": "markdown",
   "id": "bdbbbe95-1416-4f39-a5c2-2ea029d94de0",
   "metadata": {},
   "source": [
    "For rest of the numbers **(5, 11)** we use modulo operations. Recall\n",
    "\n",
    "$$A+B\\mod C = (A \\mod C  +  B \\mod C) \\mod C$$    \n",
    "\n",
    "From table below we get \n",
    "$$(4^2)^{52} \\equiv (1)^{52} \\pmod{5}$$\n",
    "$$4^{104} \\equiv 1 \\pmod{5}$$ \n",
    "$$4^{105} \\equiv 4 \\pmod{5}$$   \n",
    "\n",
    "Similarly, $3^2 \\equiv -1 \\pmod{5}$\n",
    "\n",
    "$$(3^2)^{52} \\equiv (-1)^{52} \\pmod{5}$$ \n",
    "$$3^{104} \\equiv 1 \\pmod{5}$$\n",
    "$$3^{105} \\equiv 3 \\pmod{5}$$   \n",
    "\n",
    "Add the expressions together\n",
    "\n",
    "$$4^{105} + 3^{105} \\mod{5} = (4+3) \\mod{5} = 2$$ \n",
    "$$4^{105} + 3^{105} \\equiv 2 \\pmod{5} $$   \n",
    "\n",
    "\n",
    "Dividing by 5 gives us a remainder of 2. \n",
    "\n",
    "For 11, we repeat the process\n",
    "$$(4^5)^{21} \\equiv (1)^{21} \\pmod{11}$$\n",
    "$$4^{105} \\equiv 1 \\pmod{11}$$  \n",
    "$$(3^5)^{21} \\equiv (1)^{21} \\pmod{11}$$\n",
    "$$3^{105} \\equiv 1 \\pmod{11}$$   \n",
    "\n",
    "Add the expressions together\n",
    "\n",
    "$$4^{105} + 3^{105} \\mod{11} = (1+1) \\mod{11} = 2$$ \n",
    "$$4^{105} + 3^{105} \\equiv 2 \\pmod{11} $$   \n"
   ]
  },
  {
   "cell_type": "code",
   "execution_count": 18,
   "id": "19d388de-4044-41c8-88f0-c09dd35933fb",
   "metadata": {
    "tags": []
   },
   "outputs": [
    {
     "name": "stdout",
     "output_type": "stream",
     "text": [
      "3^0 = 1, %5 1\n",
      "3^1 = 3, %5 3\n",
      "3^2 = 9, %5 4\n",
      "3^3 = 27, %5 2\n",
      "3^4 = 81, %5 1\n",
      "3^5 = 243, %5 3\n",
      "3^6 = 729, %5 4\n",
      "3^7 = 2187, %5 2\n",
      "3^8 = 6561, %5 1\n",
      "3^9 = 19683, %5 3\n",
      "4^0 = 1, %5 1\n",
      "4^1 = 4, %5 4\n",
      "4^2 = 16, %5 1\n",
      "4^3 = 64, %5 4\n",
      "4^4 = 256, %5 1\n",
      "4^5 = 1024, %5 4\n",
      "4^6 = 4096, %5 1\n",
      "4^7 = 16384, %5 4\n",
      "4^8 = 65536, %5 1\n",
      "4^9 = 262144, %5 4\n"
     ]
    }
   ],
   "source": [
    "for n in [3,4]:\n",
    "    [print(f'{n}^{x} = {n**x}, %5 {n**x%5}') for x in range(0,10)]"
   ]
  },
  {
   "cell_type": "code",
   "execution_count": 19,
   "id": "15c32d1e-f48b-4dc5-b73c-1394f750e05a",
   "metadata": {
    "tags": []
   },
   "outputs": [
    {
     "name": "stdout",
     "output_type": "stream",
     "text": [
      "3^0 = 1, %11 1\n",
      "3^1 = 3, %11 3\n",
      "3^2 = 9, %11 9\n",
      "3^3 = 27, %11 5\n",
      "3^4 = 81, %11 4\n",
      "3^5 = 243, %11 1\n",
      "3^6 = 729, %11 3\n",
      "3^7 = 2187, %11 9\n",
      "3^8 = 6561, %11 5\n",
      "3^9 = 19683, %11 4\n",
      "4^0 = 1, %11 1\n",
      "4^1 = 4, %11 4\n",
      "4^2 = 16, %11 5\n",
      "4^3 = 64, %11 9\n",
      "4^4 = 256, %11 3\n",
      "4^5 = 1024, %11 1\n",
      "4^6 = 4096, %11 4\n",
      "4^7 = 16384, %11 5\n",
      "4^8 = 65536, %11 9\n",
      "4^9 = 262144, %11 3\n"
     ]
    }
   ],
   "source": [
    "for n in [3,4]:\n",
    "    [print(f'{n}^{x} = {n**x}, %11 {n**x%11}') for x in range(0,10)]"
   ]
  },
  {
   "cell_type": "code",
   "execution_count": 20,
   "id": "4991be6f-8d01-47eb-ab93-2f45a9181c4a",
   "metadata": {},
   "outputs": [],
   "source": [
    "def gen_factors(n:int, l:list[int]) -> list[int]:\n",
    "    if n == 1:\n",
    "        return None\n",
    "    i=2\n",
    "    while n%i!=0:\n",
    "        i+=1\n",
    "    l.append(i)\n",
    "    if i<=n//2:\n",
    "        gen_factors(n/i,l)\n",
    "        return l"
   ]
  },
  {
   "cell_type": "code",
   "execution_count": 21,
   "id": "d639221c-ea74-4be8-9180-2b874e30ef66",
   "metadata": {
    "tags": []
   },
   "outputs": [],
   "source": [
    "def print_factors(num: int) -> None:\n",
    "    f_lst=gen_factors(num,[])\n",
    "    print(f'factoring {num}... {f_lst}')  \n",
    "    try:\n",
    "        print(f'unique factors {set(f_lst)}')   \n",
    "    except: \n",
    "        TypeError\n",
    "    "
   ]
  },
  {
   "cell_type": "code",
   "execution_count": 22,
   "id": "6e15ad42-968d-495f-855d-ec255b8d8d63",
   "metadata": {},
   "outputs": [
    {
     "name": "stdout",
     "output_type": "stream",
     "text": [
      "factoring 31... None\n"
     ]
    }
   ],
   "source": [
    "num=random.randint(0,50)\n",
    "print_factors(num)"
   ]
  },
  {
   "cell_type": "code",
   "execution_count": 23,
   "id": "8fc5ce0e-984f-4504-a02c-c51893bd178b",
   "metadata": {
    "tags": []
   },
   "outputs": [
    {
     "name": "stdout",
     "output_type": "stream",
     "text": [
      "factoring 105... [3, 5, 7]\n",
      "unique factors {3, 5, 7}\n"
     ]
    }
   ],
   "source": [
    "print_factors(105)"
   ]
  },
  {
   "cell_type": "markdown",
   "id": "998253bc-c892-4100-8fc5-2f117e05d04f",
   "metadata": {},
   "source": [
    "## 5. A simplified form of Fermat's theorem\n",
    "***\n",
    "If $x,y,z,n$ are natural numbers, and $n\\ge z$, then the relation $x^n+y^n=z^n$ does not hold."
   ]
  },
  {
   "cell_type": "markdown",
   "id": "195d9997-6d20-453f-a891-70bec344e29a",
   "metadata": {},
   "source": [
    "#### Attempt\n",
    "\n",
    "We know some classic relations like $3^2+4^2=5^2$ holds. \n",
    "\n",
    "What's the relationship of $x,y,z$? Intuitively $x<z, y<z$. Then $x \\neq y$ else $x^n=y^n=z^n$. What can we use this relationship for in the case of $n \\ge z$?"
   ]
  },
  {
   "cell_type": "markdown",
   "id": "072f8e4c-519d-4086-b1b5-85088d30c349",
   "metadata": {},
   "source": [
    "#### Book Solution\n",
    "\n",
    "Uses contradiction to prove the hypothesis.\n",
    "\n",
    "$$z^n - y^n = (z-y)\\cdot(z^{n-1}+yz^{n-2}+...+y^{n-1}) \\ge 1\\cdot nx^{n-1} > x^n$$ \n",
    "\n",
    "Where did $\\ge 1\\cdot nx^{n-1}$ come from?\n",
    "\n",
    "The book doesn't say but I think it could be the following reason:\n",
    "\n",
    "First, $(z-y) \\ge 1$ since we already established $y < z$ and all $x,y,z,n$ are natural numbers.\n",
    " \n",
    "Second, to show $(z^{n-1}+yz^{n-2}+...+y^{n-1}) \\ge nx^{n-1}$ assume for now $y = z$. We can rewrite as follows:\n",
    "\n",
    "$$(z^{n-1}+z\\cdot z^{n-2}+...+z^{n-1}) = nz^{n-1}$$\n",
    "\n",
    "Given $x < z$, we conclude $nz^{n-1} \\ge nx^{n-1}$. Since we have $y < z$ and $x \\neq y$, we can assume $x < y < z$ (or we can switch x and y, just for convenience.) Therefore \n",
    "\n",
    "$$(z^{n-1}+yz^{n-2}+...+y^{n-1}) \\ge nx^{n-1}$$\n",
    "\n",
    "Since $n \\ge z$ and therefore $n > x$, it follows that $1\\cdot nx^{n-1} > x^n$\n",
    "\n",
    "The expression $z^n - y^n > x^n$ written as $z^n > x^n + y^n$ clearly contradicts the premise that  $z^n = x^n + y^n$.\n"
   ]
  },
  {
   "cell_type": "markdown",
   "id": "5776687b-acf7-4bd2-ad22-3f74d642f94a",
   "metadata": {},
   "source": [
    "## 6. Distribution of numbers (WIP)\n",
    "***\n",
    "\n",
    "Find ten numbers $x_1, x_2,...,x_{10}$ such that\n",
    "1. the number $x_1$ is contained in the closed interval [$0,1$]\n",
    "2. the numbers $x_1, x_2$ lie in different halves of the interval [$0,1$]\n",
    "3. the numbers $x_1, x_2, x_3$ lie each in different thirds of the interval [$0,1$] \n",
    "4. repeat ... until\n",
    "5. the numbers $x_1, x_2,...x_{10}$ lie each in different tenth of the interval [$0,1$]"
   ]
  },
  {
   "cell_type": "markdown",
   "id": "505decaf-7810-4fe8-880a-5a6c3e7975b0",
   "metadata": {},
   "source": [
    "#### Attempt\n",
    "\n",
    "Split solution into:\n",
    "1. order of variables\n",
    "2. value (range) of variables\n",
    "\n",
    "Earlier variables have the most conditions:\n",
    "- x1: 10 conditions\n",
    "- x2: 9 conditions\n",
    "- ...\n",
    "- x9: 2 conditions\n",
    "- x10: 1 condition\n",
    "\n",
    "Therefore we need to solve for placement of earlier variables first.\n",
    "\n",
    "The biggest danger is having earlier variables grouped too closely together, so we prioritize increasing the distance between xn and its immediate neighbors to be greater than 1. e.g. for [1,3,2] must become [1,_,3,_,2] as soon as possible. With every insertion following this rule we can be certain that prior conditions are fulfilled. This method yields for example\n",
    "\n",
    "Sequence A: [1, 9, 5, 8, 3, 7, 4, 6, 10, 2]\n",
    "\n",
    "It can easily also yield\n",
    "\n",
    "Sequence B: [1, 10, 6, 4, 7, 3, 8, 5, 9, 2]\n",
    "\n",
    "To determine range per variable, we first get its global max and min determined by its initial condition. Trivially, for 1 that is [0,1], and for 2 that is [0.5, 1], for 3 [0.33, 0.67]. Every condition after that reduces the global max and min of prior variables, yielding its local max and min. For example given the sequence [1,3,4,2], with 4 being [0.5, 0.75], 2 becomes [0.75,1], 3 becomes [0.33, 0.5], and 1 becomes [0,0.25]. Notice that there is a gap in [0.25, 0.33]. This is due to the global min restriction of 3rd variable - even though it can occupy [0.25, 0.5] by virtue of its order in the sequence, its acceptable range can only be [0.33, 0.5]. \n"
   ]
  },
  {
   "cell_type": "code",
   "execution_count": 32,
   "id": "fb3d671a-dc44-4a95-9195-00be482e3227",
   "metadata": {
    "tags": []
   },
   "outputs": [],
   "source": [
    "def order_seq(n):\n",
    "    assert n>0, 'must input at least one interval'\n",
    "    if n == 1:\n",
    "        return [n]\n",
    "    lst = [1,2]\n",
    "    c = 3\n",
    "    while c <= n:\n",
    "        if c%2==0:\n",
    "            i = lst.index((c+2)/2)\n",
    "            lst.insert(i+1, c)\n",
    "        else:\n",
    "            i = lst.index((c+1)/2)\n",
    "            lst.insert(i, c)\n",
    "        c+=1\n",
    "    return lst"
   ]
  },
  {
   "cell_type": "code",
   "execution_count": 33,
   "id": "17aacd50-029c-4c50-8a95-ec2fb8bae98e",
   "metadata": {
    "tags": []
   },
   "outputs": [],
   "source": [
    "def order_seq_plus(n:int, start:int, end:int):\n",
    "    assert n>0, 'must input at least one interval'\n",
    "    # total length\n",
    "    total = start+end\n",
    "    # dict to hold var ranges\n",
    "    dct = {\n",
    "        1: [0,0.5],\n",
    "        2: [0.5,1]\n",
    "    }\n",
    "    # list for ordering\n",
    "    lst = [1,2]\n",
    "    # start at 3rd condition\n",
    "    if n == 1:\n",
    "        return [n]\n",
    "    c = 3\n",
    "    while c <= n:\n",
    "        if c%2==0:\n",
    "            i = lst.index((c+2)/2)\n",
    "            lst.insert(i+1, c)\n",
    "        else:\n",
    "            i = lst.index((c+1)/2)\n",
    "            lst.insert(i, c)\n",
    "        interval = total/c\n",
    "        g_min = lst.index(c)*interval\n",
    "        g_max = g_min+interval\n",
    "        dct[c] = [g_min, g_max]\n",
    "        c+=1\n",
    "    return lst, dct"
   ]
  },
  {
   "cell_type": "code",
   "execution_count": 34,
   "id": "a1a97af4-e1d1-4e26-94fd-efc2ac6f3e31",
   "metadata": {
    "tags": []
   },
   "outputs": [
    {
     "data": {
      "text/plain": [
       "[1, 9, 5, 8, 3, 7, 4, 6, 10, 2]"
      ]
     },
     "execution_count": 34,
     "metadata": {},
     "output_type": "execute_result"
    }
   ],
   "source": [
    "order_seq(10)"
   ]
  },
  {
   "cell_type": "code",
   "execution_count": 35,
   "id": "e5350495-ab69-4c7a-a11e-80ec0f54b1e2",
   "metadata": {
    "tags": []
   },
   "outputs": [
    {
     "data": {
      "text/plain": [
       "([1, 9, 5, 8, 3, 7, 4, 6, 10, 2],\n",
       " {1: [0, 0.5],\n",
       "  2: [0.5, 1],\n",
       "  3: [0.3333333333333333, 0.6666666666666666],\n",
       "  4: [0.5, 0.75],\n",
       "  5: [0.2, 0.4],\n",
       "  6: [0.6666666666666666, 0.8333333333333333],\n",
       "  7: [0.42857142857142855, 0.5714285714285714],\n",
       "  8: [0.25, 0.375],\n",
       "  9: [0.1111111111111111, 0.2222222222222222],\n",
       "  10: [0.8, 0.9]})"
      ]
     },
     "execution_count": 35,
     "metadata": {},
     "output_type": "execute_result"
    }
   ],
   "source": [
    "order_seq_plus(10, 0, 1)"
   ]
  }
 ],
 "metadata": {
  "kernelspec": {
   "display_name": "Python 3 (ipykernel)",
   "language": "python",
   "name": "python3"
  },
  "language_info": {
   "codemirror_mode": {
    "name": "ipython",
    "version": 3
   },
   "file_extension": ".py",
   "mimetype": "text/x-python",
   "name": "python",
   "nbconvert_exporter": "python",
   "pygments_lexer": "ipython3",
   "version": "3.11.0"
  }
 },
 "nbformat": 4,
 "nbformat_minor": 5
}
