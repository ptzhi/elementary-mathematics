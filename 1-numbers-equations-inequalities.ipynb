{
 "cells": [
  {
   "cell_type": "markdown",
   "id": "94ffc059-7d5e-4920-93ee-d5a6f8ab5ee8",
   "metadata": {},
   "source": [
    "# Chapter 1: Numbers, Equations, and Inequalities\n",
    "***\n",
    "\n",
    "### Table of Contents\n",
    "\n",
    "1. [Exercise on the multiplication table](#1.-Exercise-on-the-multiplication-table)\n",
    "2. [An interesting property of numbers (WIP)](#2.-An-interesting-property-of-numbers-(WIP))\n",
    "3. [Division by 11](#3.-Division-by-11)\n",
    "4. [The divisibility of numbers](#4.-The-divisibility-of-numbers)"
   ]
  },
  {
   "cell_type": "markdown",
   "id": "dc8b8280-ffd6-4894-9f7f-74f72e6f0327",
   "metadata": {
    "jp-MarkdownHeadingCollapsed": true,
    "tags": []
   },
   "source": [
    "## 1. Exercise on the multiplication table\n",
    "***\n",
    "Construct sequence of numbers as follows:\n",
    "\n",
    "$2 \\cdot 3 = 6$\n",
    "\n",
    "$3 \\cdot 6 = 18$\n",
    "\n",
    "$6 \\cdot 1 = 6$, $1 \\cdot 8 = 8$\n",
    "\n",
    "Sequence: $2,3,6,1,8,6,8...$\n",
    "\n",
    "**Prove** that numbers $5, 7, 9$ never appear in this sequence"
   ]
  },
  {
   "cell_type": "markdown",
   "id": "808aea8f-94a1-4911-bbb8-6f7b2f1ef883",
   "metadata": {
    "tags": []
   },
   "source": [
    "#### Attempt:"
   ]
  },
  {
   "cell_type": "markdown",
   "id": "7d94d19b-d64b-4521-ae15-1a4cebd3891a",
   "metadata": {
    "tags": []
   },
   "source": [
    "We list the conditions for 5, 7, 9 to appear and check each one. All the ways for 5 to appear:\n",
    "\n",
    "To get _5\n",
    "- 1*5 = 5\n",
    "- 3*5 = 15\n",
    "- 5*5 = 25\n",
    "- 7*5 = 35\n",
    "- 9*5 = 45\n",
    "\n",
    "Immediately, we have a problem. 5 is a prime number, so we need a 5 to generate _5, which is not possible in this sequence that starts with 2 and 3.\n",
    "\n",
    "To get 5_, find factorial s.a. all are single digit\n",
    "- 51 = 3*17\n",
    "- 52 = 2 * 3 * 13\n",
    "- 53 = 1 * 53\n",
    "- **54 = 3 * 2 * 9 -> 6 * 9**\n",
    "- 55 = 5 * 11\n",
    "- **56 = 2 * 2 * 2 * 7 -> 8 * 7**\n",
    "- 57 = 3 * 19\n",
    "- 58 = 2 * 29\n",
    "- 59 = 1 * 59\n",
    "\n",
    "This requires the presence of 9 or 7. We repeat the exercise:\n",
    "\n",
    "To get_7\n",
    "- 1*7 = 7\n",
    "- 3*9 = 27\n",
    "\n",
    "To get 7_\n",
    "- 72 = 8*9\n",
    "\n",
    "Again since 7 is a prime number, we need a 9 to yield 27 or 72.\n",
    "\n",
    "To get _9\n",
    "- 1*9 = 9\n",
    "- 3*3 = 9\n",
    "- 7*7 = 49\n",
    "\n",
    "To get 9_ is impossible given highest multiplication table of single digits is 81.\n",
    "\n",
    "For 1 * 9, it is impossible because we are generating the first instance of 9.\n",
    "\n",
    "For 3 * 3, we need either:\n",
    "- 33, with factors 3 and 11, but 11 is a double digit\n",
    "- _ 3.3 _ \n",
    "\n",
    "_ 3 must be 3 and not 63 because 63 requires 7 and 9. 3_ is either 3 or 32 (4 * 8). 3 is impossible because it is a prime that requires 3 * 1 and the only number after single 3 is 6 (2*3) or 2 (for 32). It is therefore impossible to follow a single 3 with 32. \n",
    "\n",
    "For 7 * 7, we need the number 7 which requires 9 so that's also not possible.\n",
    "\n",
    "Since there cannot be 9, and 5 and 7 depend on 9, there also cannot be 5 or 7. So 5, 7, 9 never appears in this sequence."
   ]
  },
  {
   "cell_type": "markdown",
   "id": "14add023-d673-464f-86bf-bd878096e0d2",
   "metadata": {
    "tags": []
   },
   "source": [
    "#### Book Solution:"
   ]
  },
  {
   "cell_type": "markdown",
   "id": "5c106fdb-fc79-410c-956b-411f2e150e91",
   "metadata": {},
   "source": [
    "Starts with proving that the sequence cannot have two odd numbers in a row.\n",
    "\n",
    "Let a b c d be an instance of the sequence for this exercise. \n",
    "\n",
    "Suppose a * b = cd. If cd is odd, then a and b must both be odd. c can be either odd or even.\n",
    "\n",
    "Supose a * b = c. If c is odd, then a and b must both be odd.\n",
    "\n",
    "In either case, the immediately two preceding terms must be odd. The first three sequences must either be:\n",
    "- odd odd odd \n",
    "- odd odd even\n",
    "\n",
    "The three starting digits in this sequence is 2, 3, and 6 which is even, odd, even. Therefore there cannot be any consecutive odd numbers.\n",
    "\n",
    "It follows that the number 9 cannot appear as a product of 3 * 3. Also, numbers larger or equal to 90 are impermissible because the product requires one number with two digits e.g. 9 * 10. \n",
    "\n",
    "The number 7 requires the number 9 (8 * 9 = 72), and the number 5 requires either 7 or 9 (6 * 9 = 54 or 7 * 8 = 56). Since number 9 cannot appear, it follows that number 7 cannot appear, and number 5 cannot appear.\n"
   ]
  },
  {
   "cell_type": "markdown",
   "id": "97837d0e-74be-49d1-aefa-5f6e58d59ea4",
   "metadata": {},
   "source": [
    "#### Code"
   ]
  },
  {
   "cell_type": "code",
   "execution_count": 1,
   "id": "dfceeea5-2834-44dc-a115-3c8fd185e385",
   "metadata": {
    "tags": []
   },
   "outputs": [],
   "source": [
    "class Q1():\n",
    "    @staticmethod\n",
    "    def split_number(n: int) -> list[int]:\n",
    "        num_split = []\n",
    "        i = len(str(n))\n",
    "        while i > 0:\n",
    "            num_split.append(int(str(n)[-i]))\n",
    "            i -= 1\n",
    "        return num_split\n",
    "\n",
    "    # count is number of multiplications\n",
    "    @classmethod\n",
    "    def create_sequence(cls, a: int, b: int, count: int) -> list[int]:\n",
    "        lst = [a, b]\n",
    "        i = 0\n",
    "        while i < count: \n",
    "            c = lst[i] * lst[i+1]\n",
    "            lst.extend(cls.split_number(c))\n",
    "            i += 1\n",
    "        return lst\n",
    "\n",
    "    @staticmethod\n",
    "    def is_in_any(n_lst: int, seq_lst: list) -> bool:\n",
    "        return any([x for x in list(set(seq_lst)) if x in n_lst])\n",
    "\n",
    "    @staticmethod\n",
    "    def is_in_all(n_lst: int, seq_lst: list) -> bool:\n",
    "        return set(n_lst) < set(seq_lst)\n",
    "\n",
    "    @staticmethod\n",
    "    def count_nums(seq_lst: list) -> int:\n",
    "        nums = [n for n in range(1,10)]\n",
    "        total = len(seq_lst)\n",
    "        for n in nums:\n",
    "            count = len([x for x in seq_lst if x == n])\n",
    "            print(f'for {n} in seq start {seq_lst[:2]}: {\"%.0f\" % (100*count/total)}%, {count}/{total}')\n",
    "\n",
    "    @classmethod\n",
    "    def print_solution(cls, seq):\n",
    "        sub_seq1 = [5,7,9]\n",
    "        sub_seq2 = [2,4,6]\n",
    "        print(f'''\n",
    "        for sequence {seq[0:10]}... of length {len(seq1)}\n",
    "        any {sub_seq1} is in sequence: {cls.is_in_any(sub_seq1, seq)}\n",
    "        any {sub_seq2} is in sequence: {cls.is_in_any(sub_seq2, seq)}\n",
    "        all {sub_seq1} is in sequence: {cls.is_in_all(sub_seq1, seq)}\n",
    "        all {sub_seq2} is in sequence: {cls.is_in_all(sub_seq2, seq)}\n",
    "        check unique numbers of sequence: {set(seq)}\n",
    "        ''')\n",
    "        cls.count_nums(seq)"
   ]
  },
  {
   "cell_type": "code",
   "execution_count": 2,
   "id": "f5c9680b-06a4-4f0d-9778-40c8d4189230",
   "metadata": {
    "tags": []
   },
   "outputs": [],
   "source": [
    "s1 = Q1()"
   ]
  },
  {
   "cell_type": "code",
   "execution_count": 3,
   "id": "7be1691a-610a-4844-a4f8-6897779afd45",
   "metadata": {
    "tags": []
   },
   "outputs": [],
   "source": [
    "seq1 = s1.create_sequence(a=2, b=3, count=10000)\n",
    "seq2 = s1.create_sequence(a=3, b=7, count=10000)"
   ]
  },
  {
   "cell_type": "code",
   "execution_count": 4,
   "id": "0342ad57-7c69-42fd-a906-6dd3814619d4",
   "metadata": {
    "tags": []
   },
   "outputs": [
    {
     "name": "stdout",
     "output_type": "stream",
     "text": [
      "\n",
      "        for sequence [2, 3, 6, 1, 8, 6, 8, 4, 8, 4]... of length 16747\n",
      "        any [5, 7, 9] is in sequence: False\n",
      "        any [2, 4, 6] is in sequence: True\n",
      "        all [5, 7, 9] is in sequence: False\n",
      "        all [2, 4, 6] is in sequence: True\n",
      "        check unique numbers of sequence: {1, 2, 3, 4, 6, 8}\n",
      "        \n",
      "for 1 in seq start [2, 3]: 4%, 674/16747\n",
      "for 2 in seq start [2, 3]: 27%, 4443/16747\n",
      "for 3 in seq start [2, 3]: 2%, 317/16747\n",
      "for 4 in seq start [2, 3]: 35%, 5931/16747\n",
      "for 5 in seq start [2, 3]: 0%, 0/16747\n",
      "for 6 in seq start [2, 3]: 17%, 2773/16747\n",
      "for 7 in seq start [2, 3]: 0%, 0/16747\n",
      "for 8 in seq start [2, 3]: 16%, 2609/16747\n",
      "for 9 in seq start [2, 3]: 0%, 0/16747\n",
      "\n",
      "        for sequence [3, 7, 2, 1, 1, 4, 2, 1, 4, 8]... of length 16747\n",
      "        any [5, 7, 9] is in sequence: True\n",
      "        any [2, 4, 6] is in sequence: True\n",
      "        all [5, 7, 9] is in sequence: False\n",
      "        all [2, 4, 6] is in sequence: True\n",
      "        check unique numbers of sequence: {1, 2, 3, 4, 6, 7, 8}\n",
      "        \n",
      "for 1 in seq start [3, 7]: 10%, 1487/15555\n",
      "for 2 in seq start [3, 7]: 25%, 3837/15555\n",
      "for 3 in seq start [3, 7]: 4%, 665/15555\n",
      "for 4 in seq start [3, 7]: 25%, 3815/15555\n",
      "for 5 in seq start [3, 7]: 0%, 0/15555\n",
      "for 6 in seq start [3, 7]: 19%, 2890/15555\n",
      "for 7 in seq start [3, 7]: 0%, 1/15555\n",
      "for 8 in seq start [3, 7]: 18%, 2860/15555\n",
      "for 9 in seq start [3, 7]: 0%, 0/15555\n"
     ]
    }
   ],
   "source": [
    "s1.print_solution(seq1)\n",
    "s1.print_solution(seq2)"
   ]
  },
  {
   "cell_type": "markdown",
   "id": "2435c678-d6d2-4c32-bd0d-0cf16b6972fc",
   "metadata": {
    "jp-MarkdownHeadingCollapsed": true,
    "tags": []
   },
   "source": [
    "## 2. An interesting property of numbers (WIP)\n",
    "***\n",
    "Add the squares of the digits of an arbitrary number e.g. 2583\n",
    "\n",
    "$2^2+5^2+8^2+3^2 = 102$\n",
    "\n",
    "Repeat with the new number obtained\n",
    "\n",
    "- $1^2+0^2+2^2=5$\n",
    "- $5^2=25$\n",
    "- $2^2+5^2=29$\n",
    "- $2^2+9^2=85$\n",
    "- $8^2+5^2=89$\n",
    "- $8^2+9^2=145$\n",
    "\n",
    "And so on.\n",
    "\n",
    "**Prove** that this procedure either leads to the number 1 (and therefore recurr indefinitely at $1^2=1$), or to the number 145 with the following sequence repeated indefinitely\n",
    "\n",
    "$$145, 42, 20, 4, 16, 37, 58, 89$$"
   ]
  },
  {
   "cell_type": "markdown",
   "id": "bfc3afe8-78c4-4f13-b25e-8bd6af88f43d",
   "metadata": {
    "tags": []
   },
   "source": [
    "#### Attempt"
   ]
  },
  {
   "cell_type": "markdown",
   "id": "eb5212f3-f3f8-4527-9cf6-d3775f2baad8",
   "metadata": {},
   "source": [
    "Again, exploring single digits, but now with squares. Let's see if we can tell what's so special from listing the squares.\n",
    "\n",
    "$0^2 = 0$   \n",
    "$1^2 = 1$   \n",
    "$2^2 = 4$   \n",
    "$3^2 = 9$   \n",
    "$4^2 = 16$  \n",
    "$5^2 = 25$  \n",
    "$6^2 = 36$  \n",
    "$7^2 = 49$  \n",
    "$8^2 = 64$  \n",
    "$9^2 = 81$  \n",
    "\n",
    "The only way to end up with $1$ is with $1 \\cdot 10^n$, so $1^2 + 0^2 + 0^2 + ... + 0^2 = 1$\n",
    "\n",
    "E.g. $5555$ gives \n",
    "- $5^2 + 5^2 + 5^2 + 5^2 = 100$\n",
    "- $1^2 + 0^2 + 0^2 = 1$\n",
    "\n",
    "We get $145 = 8^2 + 9^2 = 2^{3\\cdot2} + 3^{2\\cdot2} = 10^2\\cdot1 + 10^1\\cdot4 + 10^0\\cdot5$\n",
    "\n",
    "Highest is $9^2+9^2=162$\n",
    "- $1^2+6^2+2^2=41$\n",
    "- $4^2+1^2=17$\n",
    "- $1^2+7^2=50$\n",
    "- $5^2+0^2=25$\n",
    "- $2^2+5^2=29$\n",
    "- $2^2+9^2=85$\n",
    "- $8^2+5^2=89$\n",
    "- $8^2+9^2=145$\n",
    "\n",
    "... I have no clue"
   ]
  },
  {
   "cell_type": "markdown",
   "id": "f4ed7036-994e-4b1c-a851-a3b0227a587f",
   "metadata": {},
   "source": [
    "### Book Solution\n",
    "\n",
    "**First, establish that an arbitrary number with >=3 digits is greater in value than the sum of its squared digits.**\n",
    "\n",
    "Let arbitrary number be $L = 10^{n-1}a_n + 10^{n-2}a_{n-1} + ... + 10^2a_3 + 10a_2 + a_1$ where $n=1,2,3...$ and $a_n=0,1,2,...,9$\n",
    "\n",
    "Let sum of its squared digits of L be $L_s = a^2_n + a^2_{n-1} + ... + a^2_3 + a^2_2+ a^2_1$\n",
    "\n",
    "$L-L_s = (10^{n-1}-a_n)a_n + (10^{n-2}-a_{n-1})a_{n-1} + ... + (10^2-a_3)a_3 + (10^1-a_2)a_2 - (a_1-1)a_1$\n",
    "\n",
    "It follows that $(a_1-1)a_1 \\le 72$, since max $a_1 = 9$\n",
    "\n",
    "For $n\\ge3$ and $a_n\\neq0$, we have $(10^{n-1}-a_n)a_n\\ge99$, for example for $n=3, a_n=1$, we have $(100-1)1\\ge99$\n",
    "\n",
    "For $n\\ge2$ and $a_n\\neq0$, we have $(10^{n-1}-a_n)a_n\\ge0$, for example for $n=2, a_n=1$, we have $(10-1)1\\ge0$\n",
    "\n",
    "It follows that $L-L_s\\ge99-72$ or $L-L_s\\ge27$. Therefore we have the sequence $L_1 > L_2 > L_3 ...$ We have proved that for numbers **greater than 3 digits**, the original number will always be greater in value to the sum of its squared digits.\n",
    "\n",
    "**Second, establish the same for numbers <3 digits**\n",
    "\n",
    "Rewriting the inequality for n=3, $L-L_s\\ge27$ means there is at least one number in the sequence of $L_1, L_2, L_3...$ that is a double digit number, given $L > L_1 > L_2 ... $. Recall that starting with triple digit number, our sequence will get smaller and smaller. \n",
    "\n",
    "Let that number be $L_q = 10j+k$ with sequence $L_{q+1}, L_{q+2}, L_{q+3}...$\n",
    "\n",
    "Refer to table outlined in the book to validate each possible number of $j^2+k^2$"
   ]
  },
  {
   "cell_type": "markdown",
   "id": "a3b63f86-2f06-4e8a-9ac4-940a60582ad5",
   "metadata": {},
   "source": [
    "#### Code"
   ]
  },
  {
   "cell_type": "code",
   "execution_count": 167,
   "id": "bbbe40e3-b01e-4de6-a4d3-6621c40a3cb2",
   "metadata": {
    "tags": []
   },
   "outputs": [],
   "source": [
    "\n",
    "def create_seq(n: int) -> list[int]:\n",
    "    lst_split=Q1.split_number(n)\n",
    "    n_new=sum([x**2 for x in lst_split])\n",
    "    print(n_new)\n",
    "    if n_new==145 or n_new==1:\n",
    "        return None\n",
    "    return create_seq(n_new)"
   ]
  },
  {
   "cell_type": "code",
   "execution_count": 90,
   "id": "a3470a9d-0d68-4320-b640-bbf81b0eaded",
   "metadata": {
    "tags": []
   },
   "outputs": [],
   "source": [
    "import random"
   ]
  },
  {
   "cell_type": "code",
   "execution_count": 197,
   "id": "cebecb72-a41d-4c38-8b6a-8fe9a3ec89fd",
   "metadata": {
    "tags": []
   },
   "outputs": [
    {
     "name": "stdout",
     "output_type": "stream",
     "text": [
      "seed: 551366\n",
      "132\n",
      "14\n",
      "17\n",
      "50\n",
      "25\n",
      "29\n",
      "85\n",
      "89\n",
      "145\n"
     ]
    }
   ],
   "source": [
    "seed_num = random.randint(0,1e6)\n",
    "print(f'seed: {seed_num}')\n",
    "create_seq(seed_num)"
   ]
  },
  {
   "cell_type": "code",
   "execution_count": 198,
   "id": "5f89d56d-0c42-4acb-9070-4d2589f48c14",
   "metadata": {
    "tags": []
   },
   "outputs": [
    {
     "name": "stdout",
     "output_type": "stream",
     "text": [
      "16\n",
      "37\n",
      "58\n",
      "89\n",
      "145\n"
     ]
    }
   ],
   "source": [
    "create_seq(4)"
   ]
  },
  {
   "cell_type": "markdown",
   "id": "00762b6e-1764-428f-bedb-55d171ce63fb",
   "metadata": {
    "jp-MarkdownHeadingCollapsed": true,
    "tags": []
   },
   "source": [
    "## 3. Division by 11\n",
    "***\n",
    "\n",
    "Prove that the number $5^{5k+1} + 4^{5k+2} + 3^{5k}$ is divisible by 11 for every natural k."
   ]
  },
  {
   "cell_type": "markdown",
   "id": "338ca870-128f-496f-ab45-fce9c9a27422",
   "metadata": {},
   "source": [
    "#### Attempt"
   ]
  },
  {
   "cell_type": "markdown",
   "id": "f0bde9fe-7fb5-45ba-ac6b-01ff31163f59",
   "metadata": {},
   "source": [
    "#### Book Solution\n",
    "\n",
    "Look at remainders!! Of course.\n",
    "\n",
    "Rewrite above expression as $5^{\\alpha} + 4^{\\beta} + 3^{\\gamma}$. Dividing each term by 11, we get corresponding remainders $R(5^{\\alpha}), R(4^{\\beta}), R(3^{\\gamma})$.\n",
    "\n",
    "We want $R(5^{\\alpha}) + R(4^{\\beta}) + R(3^{\\gamma})$ to be a multiple of 11. From table below, $\\alpha=6, \\beta=7, \\gamma=0$ will yield a sum of $5+5+1=11$.\n",
    "\n",
    "From the table, we see that's $5^6 + 4^7 + 3^0$, or equivalently $5^{5k+1} + 4^{5k+2} + 3^{5k}$ when $k=1$. \n",
    "\n",
    "For all other $k=2,3,4...$ results in same pattern of remainders, therefore $5^{5k+1} + 4^{5k+2} + 3^{5k}$ is divisible by 11 for all natural $k$.\n",
    "\n",
    "There can be other solutions as well, e.g. $5^5+4^3+3^5$ is also divisible by 11 because it gives sum of remainders $1+9+1=11$.\n"
   ]
  },
  {
   "cell_type": "code",
   "execution_count": 283,
   "id": "3fa2e4dc-c7f2-47ac-8fe5-2e0ff17f7e97",
   "metadata": {
    "tags": []
   },
   "outputs": [],
   "source": [
    "def print_remainder(n: int, d:int) -> None:\n",
    "    for p in [q for q in range(0,10)]:\n",
    "        print(f'{n}^{p} %{d} {(n**p)%d}')"
   ]
  },
  {
   "cell_type": "code",
   "execution_count": 284,
   "id": "5ed328fd-8858-41f0-aec0-aa508353ad7c",
   "metadata": {
    "tags": []
   },
   "outputs": [
    {
     "name": "stdout",
     "output_type": "stream",
     "text": [
      "5^0 %11 1\n",
      "5^1 %11 5\n",
      "5^2 %11 3\n",
      "5^3 %11 4\n",
      "5^4 %11 9\n",
      "5^5 %11 1\n",
      "5^6 %11 5\n",
      "5^7 %11 3\n",
      "5^8 %11 4\n",
      "5^9 %11 9\n",
      "\n",
      "\n",
      "4^0 %11 1\n",
      "4^1 %11 4\n",
      "4^2 %11 5\n",
      "4^3 %11 9\n",
      "4^4 %11 3\n",
      "4^5 %11 1\n",
      "4^6 %11 4\n",
      "4^7 %11 5\n",
      "4^8 %11 9\n",
      "4^9 %11 3\n",
      "\n",
      "\n",
      "3^0 %11 1\n",
      "3^1 %11 3\n",
      "3^2 %11 9\n",
      "3^3 %11 5\n",
      "3^4 %11 4\n",
      "3^5 %11 1\n",
      "3^6 %11 3\n",
      "3^7 %11 9\n",
      "3^8 %11 5\n",
      "3^9 %11 4\n",
      "\n",
      "\n"
     ]
    }
   ],
   "source": [
    "for x in [5,4,3]:\n",
    "    print_remainder(x, 11)\n",
    "    print('\\n')"
   ]
  },
  {
   "cell_type": "code",
   "execution_count": 297,
   "id": "bef62dd5-ee22-4683-aba0-0bfab5e5d2de",
   "metadata": {
    "tags": []
   },
   "outputs": [],
   "source": [
    "def check_divisible(n: int, d: int) -> bool:\n",
    "    return n%d==0"
   ]
  },
  {
   "cell_type": "code",
   "execution_count": 300,
   "id": "fce1e18c-77a0-4c04-b979-c2d4207fe1d6",
   "metadata": {
    "tags": []
   },
   "outputs": [
    {
     "name": "stdout",
     "output_type": "stream",
     "text": [
      "k=1, 32252 is divisible by 11: True\n",
      "k=2, 65664390 is divisible by 11: True\n",
      "k=3, 169782108716 is divisible by 11: True\n",
      "k=4, 494432831031942 is divisible by 11: True\n",
      "k=5, 1508131365182857052 is divisible by 11: True\n",
      "k=6, 4675059823042234224390 is divisible by 11: True\n",
      "k=7, 14570804744329875486495116 is divisible by 11: True\n",
      "k=8, 45494077913917911421604180742 is divisible by 11: True\n",
      "k=9, 142128354195602915965174073201852 is divisible by 11: True\n"
     ]
    }
   ],
   "source": [
    "for k in [k for k in range(1,10)]:\n",
    "    num = 5**(5*k+1) + 4**(5*k+2) + 3**(5*k)\n",
    "    divisor=11\n",
    "    result = check_divisible(num, divisor)\n",
    "    print(f'k={k}, {num} is divisible by {divisor}: {result}')"
   ]
  },
  {
   "cell_type": "markdown",
   "id": "15c4aa08-f87f-4f92-86ca-19704e7aa6ac",
   "metadata": {},
   "source": [
    "We can repeat this for other divisions, e.g. solve for $2^{\\alpha} + 3^{\\beta} + 4^{\\gamma}$ such that the sum is divisible by 3. We print table (below) and solve, e.g. $2^{3} + 3^{0} + 4^{1}$ is divisible by 3 because the sum of remainder of each term divided by 3 is a multiple of 3. \n",
    "\n",
    "The expression $2^{2k} + 3^{k-k} + 4^{k}$ is divisible by 3 for all natural $k$."
   ]
  },
  {
   "cell_type": "code",
   "execution_count": 312,
   "id": "f8b31eec-36ef-44e1-91b0-b3a195d9e69d",
   "metadata": {
    "tags": []
   },
   "outputs": [
    {
     "name": "stdout",
     "output_type": "stream",
     "text": [
      "2^0 %3 1\n",
      "2^1 %3 2\n",
      "2^2 %3 1\n",
      "2^3 %3 2\n",
      "2^4 %3 1\n",
      "2^5 %3 2\n",
      "2^6 %3 1\n",
      "2^7 %3 2\n",
      "2^8 %3 1\n",
      "2^9 %3 2\n",
      "\n",
      "\n",
      "3^0 %3 1\n",
      "3^1 %3 0\n",
      "3^2 %3 0\n",
      "3^3 %3 0\n",
      "3^4 %3 0\n",
      "3^5 %3 0\n",
      "3^6 %3 0\n",
      "3^7 %3 0\n",
      "3^8 %3 0\n",
      "3^9 %3 0\n",
      "\n",
      "\n",
      "4^0 %3 1\n",
      "4^1 %3 1\n",
      "4^2 %3 1\n",
      "4^3 %3 1\n",
      "4^4 %3 1\n",
      "4^5 %3 1\n",
      "4^6 %3 1\n",
      "4^7 %3 1\n",
      "4^8 %3 1\n",
      "4^9 %3 1\n",
      "\n",
      "\n"
     ]
    }
   ],
   "source": [
    "for x in [2,3,4]:\n",
    "    print_remainder(x, 3)\n",
    "    print('\\n')"
   ]
  },
  {
   "cell_type": "code",
   "execution_count": 314,
   "id": "8285ff4d-063f-4900-bdfb-2040d8982ef5",
   "metadata": {
    "tags": []
   },
   "outputs": [
    {
     "name": "stdout",
     "output_type": "stream",
     "text": [
      "k=1, 9 is divisible by 3: True\n",
      "k=2, 33 is divisible by 3: True\n",
      "k=3, 129 is divisible by 3: True\n",
      "k=4, 513 is divisible by 3: True\n",
      "k=5, 2049 is divisible by 3: True\n",
      "k=6, 8193 is divisible by 3: True\n",
      "k=7, 32769 is divisible by 3: True\n",
      "k=8, 131073 is divisible by 3: True\n",
      "k=9, 524289 is divisible by 3: True\n"
     ]
    }
   ],
   "source": [
    "for k in [k for k in range(1,10)]:\n",
    "    num = 2**(2*k) + 3**(k-k) + 4**(k)\n",
    "    divisor=3\n",
    "    result = check_divisible(num, divisor)\n",
    "    print(f'k={k}, {num} is divisible by {divisor}: {result}')"
   ]
  },
  {
   "cell_type": "markdown",
   "id": "c3cb8b75-a47f-49c2-8246-306862ca69dd",
   "metadata": {},
   "source": [
    "## 4. The divisibility of numbers\n",
    "***\n",
    "\n",
    "The number $3^{105} + 4^{105}$ is divisible by 13, 49, 181, and 279, and is not divisible either by 5 or 11. \n",
    "\n",
    "How can this result be confirmed?"
   ]
  },
  {
   "cell_type": "markdown",
   "id": "e7d289ed-d4ec-4b8a-9024-521ab724159c",
   "metadata": {},
   "source": [
    "#### Attempt\n",
    "\n",
    "We can brute force the result with code, but let's reason through it first.\n",
    "\n",
    "The sum of the remainders of each term in the expression divided by the divisor must be a multiple of that divisor in order for the results obtained by the expression to be divisible by that divisor.\n",
    "\n",
    "In other words, for $R_n(3^\\alpha + 4^\\beta) = 0$ to be true where $n$ is the divisor and $R_n()$ is the remainder from $n$, the following must be true: $R_n(3^\\alpha) + R_n(4^\\beta) = k\\cdot n$ for all natural $k$"
   ]
  }
 ],
 "metadata": {
  "kernelspec": {
   "display_name": "Python 3 (ipykernel)",
   "language": "python",
   "name": "python3"
  },
  "language_info": {
   "codemirror_mode": {
    "name": "ipython",
    "version": 3
   },
   "file_extension": ".py",
   "mimetype": "text/x-python",
   "name": "python",
   "nbconvert_exporter": "python",
   "pygments_lexer": "ipython3",
   "version": "3.11.0"
  }
 },
 "nbformat": 4,
 "nbformat_minor": 5
}
